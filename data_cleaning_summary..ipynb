# Exploratory Data Analysis on Titanic Dataset

# Step 1: Import Libraries
import pandas as pd
import matplotlib.pyplot as plt
import seaborn as sns

# Visual Settings
sns.set(style="whitegrid")
plt.rcParams['figure.figsize'] = (10, 6)

# Step 2: Load the Dataset
df = pd.read_csv('train.csv')  # Make sure to have the Titanic dataset in your current directory

# Step 3: Data Cleaning
# Handling missing values
df['Age'].fillna(df['Age'].median(), inplace=True)
df['Embarked'].fillna(df['Embarked'].mode()[0], inplace=True)
df.drop(columns=['Cabin'], inplace=True)

# Step 4: Data Overview
# Check the data structure and any missing values
df.info()  
df.describe()  
df.isnull().sum()  

# Step 5: Univariate Analysis
num_features = ['Age', 'Fare', 'SibSp', 'Parch']
cat_features = ['Survived', 'Pclass', 'Sex', 'Embarked']

# Histogram for numerical features
for col in num_features:
    plt.figure()
    sns.histplot(df[col], kde=True, bins=30)
    plt.title(f'Distribution of {col}')
    plt.xlabel(col)
    plt.ylabel('Count')
    plt.show()

# Countplot for categorical features
for col in cat_features:
    plt.figure()
    sns.countplot(x=col, data=df, palette='pastel')
    plt.title(f'Count of {col}')
    plt.xlabel(col)
    plt.ylabel('Count')
    plt.show()

# Boxplot for numerical features to identify outliers
for col in num_features:
    plt.figure()
    sns.boxplot(x=df[col], palette='pastel')
    plt.title(f'Boxplot of {col}')
    plt.show()

# Step 6: Bivariate Analysis
# Survival Rate by Sex
plt.figure()
sns.barplot(x='Sex', y='Survived', data=df, palette='pastel')
plt.title('Survival Rate by Sex')
plt.ylabel('Survival Rate')
plt.show()

# Survival Rate by Pclass
plt.figure()
sns.barplot(x='Pclass', y='Survived', data=df, palette='pastel')
plt.title('Survival Rate by Passenger Class')
plt.ylabel('Survival Rate')
plt.show()

# Survival Rate by Embarked
plt.figure()
sns.barplot(x='Embarked', y='Survived', data=df, palette='pastel')
plt.title('Survival Rate by Embarkation Point')
plt.ylabel('Survival Rate')
plt.show()

# Age Distribution by Survival Status
plt.figure()
sns.histplot(data=df, x='Age', hue='Survived', multiple='stack', palette='pastel', bins=30)
plt.title('Age Distribution by Survival Status')
plt.show()

# Fare Distribution by Survival Status
plt.figure()
sns.histplot(data=df, x='Fare', hue='Survived', multiple='stack', palette='pastel', bins=30)
plt.title('Fare Distribution by Survival Status')
plt.show()

# Scatterplot of Age vs Fare by Survival Status
plt.figure()
sns.scatterplot(x='Age', y='Fare', hue='Survived', data=df, palette='pastel')
plt.title('Age vs Fare by Survival Status')
plt.show()

# Pairplot to visualize pairwise relationships between numerical features
sns.pairplot(df[num_features + ['Survived']], hue='Survived', palette='pastel')
plt.title('Pairwise Relationships')
plt.show()

# Step 7: Correlation Heatmap
plt.figure(figsize=(10,8))
corr = df.corr(numeric_only=True)
sns.heatmap(corr, annot=True, cmap='coolwarm', fmt='.2f')
plt.title('Correlation Heatmap')
plt.show()

# Step 8: Key Insights
print("""
Key Insights:
- Females had much higher survival rates than males.
- Passengers from 1st class had much higher survival rates.
- Higher Fare passengers tended to survive more.
- Younger passengers (especially children) survived at higher rates.
- Most passengers embarked from Southampton (S).
""")

